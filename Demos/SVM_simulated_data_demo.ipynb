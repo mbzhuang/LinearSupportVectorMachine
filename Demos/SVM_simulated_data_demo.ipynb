{
 "cells": [
  {
   "cell_type": "markdown",
   "metadata": {},
   "source": [
    "### Demo: training SVM with squared hinge loss model on simulated dataset"
   ]
  },
  {
   "cell_type": "markdown",
   "metadata": {},
   "source": [
    "The loss function for linear support vector machine with the squared hinge loss,\n",
    "$$\\min\\limits_{\\beta \\in \\rm I\\!R^d} F(\\beta):= 1/n\\sum_{i=1}^n(max(0, 1-y_ix_i^T\\beta))^2 + \\lambda\\left \\| \\beta \\right \\|_2^2$$\n"
   ]
  },
  {
   "cell_type": "markdown",
   "metadata": {},
   "source": [
    "Thus the gradient of the loss function can be written as,\n",
    "$$ \\nabla \\ F(\\beta) = -\\frac{2}{n}\\sum_{i=1}^n u_{i} v_{i} + 2\\lambda\\beta $$ \n",
    "where $ u_{i} = max(0, 1 - y_{i}x_{i}^T\\beta)$ and  $v_{i} = x_{i}y_{i}$"
   ]
  },
  {
   "cell_type": "code",
   "execution_count": 1,
   "metadata": {
    "collapsed": true
   },
   "outputs": [],
   "source": [
    "import pandas as pd\n",
    "import numpy as np\n",
    "import scipy as sp\n",
    "import sklearn\n",
    "import matplotlib.pyplot as plt\n",
    "import sklearn.preprocessing\n",
    "import time\n",
    "from sklearn.preprocessing import StandardScaler\n",
    "from sklearn.model_selection import train_test_split"
   ]
  },
  {
   "cell_type": "markdown",
   "metadata": {},
   "source": [
    "#### Simulate training and testing data, standardize both sets."
   ]
  },
  {
   "cell_type": "code",
   "execution_count": 2,
   "metadata": {
    "collapsed": false
   },
   "outputs": [],
   "source": [
    "# Load the dataset and the test indicator set\n",
    "spam = pd.read_table('https://statweb.stanford.edu/~tibs/ElemStatLearn/datasets/spam.data', sep=' ', header=None)\n",
    "test_indicator = pd.read_table('https://statweb.stanford.edu/~tibs/ElemStatLearn/datasets/spam.traintest', sep=' ',\n",
    "                               header=None)\n",
    "\n",
    "x = np.asarray(spam)[:, 0:-1]\n",
    "y = np.asarray(spam)[:, -1]*2 - 1  # Convert to +/- 1\n",
    "test_indicator = np.array(test_indicator).T[0]\n",
    "\n",
    "# Divide the data into train, test sets\n",
    "x_train = x[test_indicator == 0, :]\n",
    "x_test = x[test_indicator == 1, :]\n",
    "y_train = y[test_indicator == 0]\n",
    "y_test = y[test_indicator == 1]\n",
    "\n",
    "# Standardize the data. \n",
    "scaler = sklearn.preprocessing.StandardScaler()\n",
    "scaler.fit(x_train)\n",
    "x_train = scaler.transform(x_train)\n",
    "x_test = scaler.transform(x_test)\n",
    "y_train = y_train.ravel()\n",
    "y_test = y_test.ravel()\n",
    "\n"
   ]
  },
  {
   "cell_type": "code",
   "execution_count": 3,
   "metadata": {
    "collapsed": false
   },
   "outputs": [],
   "source": [
    "np.random.seed(0)\n",
    "data = np.zeros((400, 50))\n",
    "data[0:200, :] = np.random.normal(loc=9, scale=1, size=(200, 50))\n",
    "data[200:400, :] = np.random.normal(loc=10, scale=5, size=(200, 50))\n",
    "classes = [-1]*200 + [1]*200\n",
    "\n",
    "# Standardize the predictors, no need to center the response since they are already labeled as -1 and 1\n",
    "sc = StandardScaler()\n",
    "sc.fit(data)\n",
    "X = sc.transform(data)\n",
    "x_train, x_test, y_train, y_test = train_test_split(X, classes, test_size=0.33, random_state=42)\n",
    "\n",
    "# Keep track of the number of samples and dimension of each sample\n",
    "n_train = len(y_train)\n",
    "n_test = len(y_test)\n",
    "d = np.size(X, 1)"
   ]
  },
  {
   "cell_type": "markdown",
   "metadata": {},
   "source": [
    "#### Define all functions."
   ]
  },
  {
   "cell_type": "code",
   "execution_count": 4,
   "metadata": {
    "collapsed": false
   },
   "outputs": [],
   "source": [
    "def objective(beta, lambduh, xy):\n",
    "    \"\"\"\n",
    "    Compute the value of objective function\n",
    "    :param beta: coefficients\n",
    "    :param lambduh: Regularization parameter\n",
    "    :param xy: Precomputed values \\sum x_{i1}y_i, ..., \\sum x_{id}y_i\n",
    "    :return: Value of objective function\n",
    "    \"\"\"   \n",
    "    n = np.size(xy, 1)\n",
    "    return np.linalg.norm(np.maximum(0, 1- np.dot(xy.T, beta)))**2/n + lambduh * np.linalg.norm(beta)**2\n",
    "\n",
    "def computegrad(beta, lambduh, xy):\n",
    "    \"\"\"\n",
    "    Compute the value of gradient function\n",
    "    :param beta: coefficients\n",
    "    :param lambduh: regularization parameter\n",
    "    :param xy: precomputed values \\sum x_{i1}y_i, ..., \\sum x_{id}y_i\n",
    "    :return: value of gradient function\n",
    "    \"\"\"\n",
    "    n = np.size(xy, 1)\n",
    "    return 2 * ((-1/n) * np.dot(xy, np.maximum(0, 1- np.dot(xy.T, beta))) + lambduh * beta)\n",
    "\n",
    "def bt_line_search(beta, lambduh, xy, eta, alpha=0.5, betaparam=0.8, maxiter=100):\n",
    "    \"\"\"\n",
    "    Backtracking line search \n",
    "    :param beta: coefficients\n",
    "    :param lambduh: regularization parameter\n",
    "    :param xy: precomputed values \\sum x_{i1}y_i, ..., \\sum x_{id}y_i\n",
    "    :param eta: step size\n",
    "    :param alpha: constant used to define sufficient decrease condition\n",
    "    :param betaparam: fraction by which we decrease step size if the previous step size doesn't work\n",
    "    :param maxiter: maximum iteration times\n",
    "    :return: eta    \n",
    "    \"\"\"\n",
    "    grad_beta = computegrad(beta, lambduh, xy)\n",
    "    norm_grad_beta = np.linalg.norm(grad_beta)\n",
    "    found_eta = 0\n",
    "    iter = 0\n",
    "    while found_eta == 0 and iter < maxiter:\n",
    "        if objective(beta - eta * grad_beta, lambduh, xy) < objective(beta, lambduh, xy) \\\n",
    "                - alpha * eta * norm_grad_beta ** 2:\n",
    "            found_eta = 1\n",
    "        else:\n",
    "            eta *= betaparam\n",
    "            iter += 1\n",
    "    return eta\n",
    "\n",
    "def mylinearsvm(beta_init, theta_init, lambduh, eta_init, maxiter, x=x_train, y=y_train):\n",
    "    \"\"\"\n",
    "    Backtracking line search \n",
    "    :param beta_init: starting coefficients\n",
    "    :param theta_init: starting coefficients\n",
    "    :param lambduh: rgularization parameter\n",
    "    :param eta_init: initial step size\n",
    "    :param maxiter: maximum iteration times\n",
    "    :param x: training predictior data set\n",
    "    :param y: training response data set\n",
    "    :return: array of all values of beta  \n",
    "    \"\"\"\n",
    "    xy = np.dot(x.T, np.diag(y))\n",
    "    beta = beta_init\n",
    "    theta = theta_init\n",
    "    grad_theta = computegrad(theta, lambduh, xy)\n",
    "    beta_vals = beta\n",
    "    theta_vals = theta\n",
    "    iter = 0\n",
    "    while iter < maxiter:\n",
    "        t0 = time.time()\n",
    "        eta = bt_line_search(theta, lambduh, xy, eta_init)\n",
    "        beta_new = theta - eta*grad_theta\n",
    "        theta = beta_new + iter/(iter+3)*(beta_new-beta)\n",
    "        # Store all of the places we step to\n",
    "        beta_vals = np.vstack((beta_vals, beta_new))\n",
    "        theta_vals = np.vstack((theta_vals, theta))\n",
    "        grad_theta = computegrad(theta, lambduh, xy)\n",
    "        beta = beta_new\n",
    "        iter += 1\n",
    "    return beta_vals\n",
    "\n",
    "def objective_plot(betas, lambduh, x=x_train, y=y_train):\n",
    "    \"\"\"\n",
    "    Plot objective/loss function value over number of iterations \n",
    "    :param beta: coefficients\n",
    "    :param lambduh: regularization parameter\n",
    "    :param x: training predictior data set\n",
    "    :param y: training response data set\n",
    "    :param maxiter: maximum iteration times\n",
    "    :return: plot \n",
    "    \"\"\"\n",
    "    v = np.dot(x.T, np.diag(y))\n",
    "    num_points = len(betas)\n",
    "    objs = np.zeros(num_points)\n",
    "    for i in range(0, num_points):\n",
    "        objs[i] = objective(betas[i], lambduh, v)\n",
    "    plt.plot(range(1, num_points + 1), objs)\n",
    "    plt.xlabel('Iteration')\n",
    "    plt.ylabel('Objective value')\n",
    "    plt.title('Objective value vs. iteration when lambda='+str(lambduh))\n",
    "    plt.show()\n",
    "    \n",
    "def misclassification_error(lambduh, beta, x, y):\n",
    "    \"\"\"\n",
    "    Calculate and print the missiclassification error\n",
    "    :param beta: coefficients\n",
    "    :param lambduh: regularization parameter\n",
    "    :param x: testing predictior data set\n",
    "    :param y: testing response data set\n",
    "    :return: missiclassification error\n",
    "    \"\"\"\n",
    "    print(\"Misclassification Error is: \" + str(np.sum(x.dot(beta)*y < 0)/len(y)) + ', when lambda is ' + str(lambduh)) \n",
    "    return np.sum(x.dot(beta)*y < 0)/len(y)\n",
    "\n",
    "def validation(fun, lambduh_tuning, beta_init, theta_init, x_train, x_test, y_train, y_test, max_iter):\n",
    "    \"\"\"\n",
    "    Plot log of missclassification error over minus log of lambduh \n",
    "    :param fun: the model function that return an array of all values of beta \n",
    "    :param lambduh_tuning: the rgularization parameter going to be tried\n",
    "    :param theta_init: \n",
    "    :param x_train: training predictior data set\n",
    "    :param y_train: training response data set\n",
    "    :param x_test: testing predictior data set\n",
    "    :param y_test: testing response data set\n",
    "    :param maxiter: maximum iteration times\n",
    "    :return: plot  \n",
    "    \"\"\"    \n",
    "    n = np.size(lambduh_tuning, 0)\n",
    "    mse = np.zeros(n) \n",
    "    eta = sp.linalg.eigh(1/len(y_train)*x_train.T.dot(x_train), eigvals = (d-1, d-1), eigvals_only=True)[0]  \n",
    "    for i in range(0, n):\n",
    "        eta_init = 1/(eta + lambduh_tuning[i])\n",
    "        betas = fun(beta_init, theta_init, lambduh_tuning[i], eta_init, max_iter, x=x_train, y=y_train)\n",
    "        beta = betas[-1]\n",
    "        mse[i] = misclassification_error(lambduh_tuning[i], beta, x_test, y_test)           \n",
    "    plt.figure()\n",
    "    plt.plot(-np.log10(lambduh_tuning), np.log(mse))\n",
    "    plt.ylabel('Log of MSE on Validation Data')\n",
    "    plt.xlabel('-log(Lambda)')\n",
    "    plt.title('Misclassification Error vs. Lambda')\n",
    "    plt.show()"
   ]
  },
  {
   "cell_type": "markdown",
   "metadata": {},
   "source": [
    "#### Give intial values for all parameters, use mylinearsvm to train a model on the training data, and plot the value of loss function over iterations."
   ]
  },
  {
   "cell_type": "code",
   "execution_count": 5,
   "metadata": {
    "collapsed": false
   },
   "outputs": [
    {
     "data": {
      "image/png": "[encoded data removed]",
      "text/plain": [
       "<matplotlib.figure.Figure at 0x25f6df537f0>"
      ]
     },
     "metadata": {},
     "output_type": "display_data"
    },
    {
     "name": "stdout",
     "output_type": "stream",
     "text": [
      "Misclassification Error is: 0.113636363636, when lambda is 1\n"
     ]
    },
    {
     "data": {
      "text/plain": [
       "0.11363636363636363"
      ]
     },
     "execution_count": 5,
     "metadata": {},
     "output_type": "execute_result"
    }
   ],
   "source": [
    "beta_init = np.zeros(d)\n",
    "theta_init = np.zeros(d)\n",
    "lambduh = 1\n",
    "eta_init = 1/(sp.linalg.eigh(1/len(y_train)*x_train.T.dot(x_train), eigvals = (d-1, d-1), eigvals_only=True)[0] + lambduh)\n",
    "\n",
    "betas = mylinearsvm(beta_init, theta_init, lambduh, eta_init, 100)\n",
    "objective_plot(betas, lambduh)\n",
    "misclassification_error(lambduh, betas[-1], x_test, y_test)"
   ]
  },
  {
   "cell_type": "markdown",
   "metadata": {},
   "source": [
    "#### Run cross-validation to find the optimal value of lambduh. Report your misclassification error for that value of lambduh."
   ]
  },
  {
   "cell_type": "code",
   "execution_count": 6,
   "metadata": {
    "collapsed": false
   },
   "outputs": [
    {
     "name": "stdout",
     "output_type": "stream",
     "text": [
      "Misclassification Error is: 0.174242424242, when lambda is 1e-10\n",
      "Misclassification Error is: 0.174242424242, when lambda is 1e-09\n",
      "Misclassification Error is: 0.174242424242, when lambda is 1e-08\n",
      "Misclassification Error is: 0.174242424242, when lambda is 1e-07\n",
      "Misclassification Error is: 0.174242424242, when lambda is 1e-06\n",
      "Misclassification Error is: 0.174242424242, when lambda is 1e-05\n",
      "Misclassification Error is: 0.174242424242, when lambda is 0.0001\n",
      "Misclassification Error is: 0.189393939394, when lambda is 0.001\n",
      "Misclassification Error is: 0.159090909091, when lambda is 0.01\n",
      "Misclassification Error is: 0.128787878788, when lambda is 0.1\n",
      "Misclassification Error is: 0.113636363636, when lambda is 1\n",
      "Misclassification Error is: 0.121212121212, when lambda is 10\n",
      "Misclassification Error is: 0.121212121212, when lambda is 100\n",
      "Misclassification Error is: 0.128787878788, when lambda is 1000\n",
      "Misclassification Error is: 0.128787878788, when lambda is 10000\n",
      "Misclassification Error is: 0.128787878788, when lambda is 100000\n",
      "Misclassification Error is: 0.128787878788, when lambda is 1000000\n",
      "Misclassification Error is: 0.128787878788, when lambda is 10000000\n",
      "Misclassification Error is: 0.128787878788, when lambda is 100000000\n",
      "Misclassification Error is: 0.128787878788, when lambda is 1000000000\n"
     ]
    },
    {
     "data": {
      "image/png": "[encoded data removed]",
      "text/plain": [
       "<matplotlib.figure.Figure at 0x25f6cbabfd0>"
      ]
     },
     "metadata": {},
     "output_type": "display_data"
    }
   ],
   "source": [
    "lambduh_tuning = [10**x for x in range(-10, 10, 1)]\n",
    "beta_init = np.zeros(d)\n",
    "theta_init = np.zeros(d)\n",
    "max_iter = 100\n",
    "\n",
    "validation(mylinearsvm, lambduh_tuning, beta_init, theta_init, x_train, x_test, y_train, y_test, max_iter)"
   ]
  },
  {
   "cell_type": "markdown",
   "metadata": {},
   "source": [
    "#### From the cross validation plot, we found missclassification error is the lowest (0.113636363636) when lambda is 1."
   ]
  },
  {
   "cell_type": "code",
   "execution_count": 7,
   "metadata": {
    "collapsed": false
   },
   "outputs": [
    {
     "data": {
      "image/png": "[encoded data removed]",
      "text/plain": [
       "<matplotlib.figure.Figure at 0x25f6c13c4e0>"
      ]
     },
     "metadata": {},
     "output_type": "display_data"
    },
    {
     "name": "stdout",
     "output_type": "stream",
     "text": [
      "Misclassification Error is: 0.113636363636, when lambda is 1\n"
     ]
    },
    {
     "data": {
      "text/plain": [
       "0.11363636363636363"
      ]
     },
     "execution_count": 7,
     "metadata": {},
     "output_type": "execute_result"
    }
   ],
   "source": [
    "beta_init = np.zeros(d)\n",
    "theta_init = np.zeros(d)\n",
    "lambduh = 1\n",
    "eta_init = 1/(sp.linalg.eigh(1/len(y_train)*x_train.T.dot(x_train), eigvals = (d-1, d-1), eigvals_only=True)[0] + lambduh)\n",
    "betas = mylinearsvm(beta_init, theta_init, lambduh, eta_init, 100)\n",
    "objective_plot(betas, lambduh)\n",
    "misclassification_error(lambduh, betas[-1], x_test, y_test)"
   ]
  }
 ],
 "metadata": {
  "kernelspec": {
   "display_name": "Python 3",
   "language": "python",
   "name": "python3"
  },
  "language_info": {
   "codemirror_mode": {
    "name": "ipython",
    "version": 3
   },
   "file_extension": ".py",
   "mimetype": "text/x-python",
   "name": "python",
   "nbconvert_exporter": "python",
   "pygments_lexer": "ipython3",
   "version": "3.6.0"
  }
 },
 "nbformat": 4,
 "nbformat_minor": 2
}
